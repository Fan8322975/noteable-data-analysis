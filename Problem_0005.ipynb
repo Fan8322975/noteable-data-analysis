{
  "nbformat": 4,
  "nbformat_minor": 5,
  "metadata": {
    "noteable-chatgpt": {
      "create_notebook": {
        "openai_conversation_id": "95245c86-ac05-5c93-92a5-50e2455ff1fe",
        "openai_ephemeral_user_id": "89701e5b-41a6-54ed-8682-491e857b344f",
        "openai_subdivision1_iso_code": "US-MD"
      }
    },
    "noteable": {
      "last_transaction_id": "d09993a4-fd56-400a-8c9e-a6f59a0a1b7f"
    }
  },
  "cells": [
    {
      "id": "6074ae4e-7854-4f65-9951-1d3ca7d04916",
      "cell_type": "markdown",
      "source": "# Problem 5: Smallest multiple\n\n## Problem Statement\n\n2520 is the smallest number that can be divided by each of the numbers from 1 to 10 without any remainder.\n\nWhat is the smallest positive number that is evenly divisible by all of the numbers from 1 to 20?",
      "metadata": {
        "noteable": {
          "cell_type": "markdown"
        }
      }
    },
    {
      "id": "7e013a30-4a94-4b88-befc-7766a0ec0074",
      "cell_type": "code",
      "metadata": {
        "noteable": {
          "cell_type": "code",
          "output_collection_id": "10296c0a-8cd2-41f0-96c3-b56d0713ad88"
        },
        "ExecuteTime": {
          "end_time": "2023-06-18T16:47:35.403842+00:00",
          "start_time": "2023-06-18T16:47:35.242130+00:00"
        }
      },
      "execution_count": null,
      "source": "import math\n\ndef smallest_multiple(n):\n    result = 1\n    for i in range(1, n + 1):\n        result *= i // math.gcd(i, result)\n    return result\n\nsmallest_multiple(20)",
      "outputs": []
    }
  ]
}