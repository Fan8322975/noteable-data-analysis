{
  "nbformat": 4,
  "nbformat_minor": 5,
  "metadata": {
    "noteable-chatgpt": {
      "create_notebook": {
        "openai_conversation_id": "d013684d-5486-5ce0-bab7-d18d891be95d",
        "openai_ephemeral_user_id": "029d81c7-17ed-5d16-8403-28c885c068cc",
        "openai_subdivision1_iso_code": "US-MD"
      }
    },
    "noteable": {
      "last_transaction_id": "78ad5e3d-51e2-47d3-8f8e-69c172c7e6ad"
    }
  },
  "cells": [
    {
      "id": "9b9c2253-2c4b-4a0e-a49e-c79a72409149",
      "cell_type": "markdown",
      "source": "# Problem 5: Smallest multiple\n\n## Problem Statement\n\n2520 is the smallest number that can be divided by each of the numbers from 1 to 10 without any remainder.\n\nWhat is the smallest positive number that is evenly divisible by all of the numbers from 1 to 20?",
      "metadata": {
        "noteable": {
          "cell_type": "markdown"
        }
      }
    },
    {
      "id": "902eb738-54cd-4dae-899e-2a7e2d8ecfb9",
      "cell_type": "code",
      "metadata": {
        "noteable": {
          "cell_type": "code",
          "output_collection_id": "bbed0dc0-bd59-4fdc-9570-32f535c2291b"
        },
        "ExecuteTime": {
          "end_time": "2023-06-23T17:37:36.385855+00:00",
          "start_time": "2023-06-23T17:37:36.225535+00:00"
        }
      },
      "execution_count": null,
      "source": "import math\n\ndef smallest_multiple(n):\n    result = 1\n    for i in range(1, n + 1):\n        result *= i // math.gcd(i, result)\n    return result\n\nsmallest_multiple(20)",
      "outputs": []
    }
  ]
}