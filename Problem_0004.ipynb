{
  "nbformat": 4,
  "nbformat_minor": 5,
  "metadata": {
    "noteable-chatgpt": {
      "create_notebook": {
        "openai_conversation_id": "d013684d-5486-5ce0-bab7-d18d891be95d",
        "openai_ephemeral_user_id": "029d81c7-17ed-5d16-8403-28c885c068cc",
        "openai_subdivision1_iso_code": "US-MD"
      }
    },
    "noteable": {
      "last_transaction_id": "a0616db7-8b7e-4323-aaac-96e4329d366f"
    }
  },
  "cells": [
    {
      "id": "d0f3dd0c-4453-4bba-a561-0cd1f742a8f2",
      "cell_type": "markdown",
      "source": "# Problem 4: Largest palindrome product\n\n## Problem Statement\n\nA palindromic number reads the same both ways. The largest palindrome made from the product of two 2-digit numbers is 9009 = 91 × 99.\n\nFind the largest palindrome made from the product of two 3-digit numbers.",
      "metadata": {
        "noteable": {
          "cell_type": "markdown"
        }
      }
    },
    {
      "id": "935cb6e2-2c81-4271-9904-f7e1c6ec4564",
      "cell_type": "code",
      "metadata": {
        "noteable": {
          "cell_type": "code",
          "output_collection_id": "24e53b12-0bf1-4f77-b295-3ae0a7f7b69f"
        },
        "ExecuteTime": {
          "end_time": "2023-06-23T17:35:08.942250+00:00",
          "start_time": "2023-06-23T17:35:08.777167+00:00"
        }
      },
      "execution_count": null,
      "source": "def is_palindrome(n):\n    return str(n) == str(n)[::-1]\n\ndef largest_palindrome_product():\n    max_palindrome = 0\n    for i in range(999, 99, -1):\n        for j in range(i, 99, -1):\n            product = i * j\n            if product <= max_palindrome:\n                break\n            if is_palindrome(product):\n                max_palindrome = product\n    return max_palindrome\n\nlargest_palindrome_product()",
      "outputs": []
    }
  ]
}