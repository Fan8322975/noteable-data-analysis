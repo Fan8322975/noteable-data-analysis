{
  "nbformat": 4,
  "nbformat_minor": 5,
  "metadata": {
    "noteable-chatgpt": {
      "create_notebook": {
        "openai_conversation_id": "95245c86-ac05-5c93-92a5-50e2455ff1fe",
        "openai_ephemeral_user_id": "89701e5b-41a6-54ed-8682-491e857b344f",
        "openai_subdivision1_iso_code": "US-MD"
      }
    },
    "noteable": {
      "last_transaction_id": "3e907964-5548-402d-8f56-70bfbc6ad322"
    }
  },
  "cells": [
    {
      "id": "e60b868a-8ca7-494d-9ebb-510e7160b088",
      "cell_type": "markdown",
      "source": "# Problem 4: Largest palindrome product\n\n## Problem Statement\n\nA palindromic number reads the same both ways. The largest palindrome made from the product of two 2-digit numbers is 9009 = 91 × 99.\n\nFind the largest palindrome made from the product of two 3-digit numbers.",
      "metadata": {
        "noteable": {
          "cell_type": "markdown"
        }
      }
    },
    {
      "id": "a9cf18db-d158-49f9-b5a5-586d1af1780e",
      "cell_type": "code",
      "metadata": {
        "noteable": {
          "cell_type": "code",
          "output_collection_id": "0488b803-d4fe-42f4-beed-2e2bea70617a"
        },
        "ExecuteTime": {
          "end_time": "2023-06-18T15:53:39.495795+00:00",
          "start_time": "2023-06-18T15:53:39.328396+00:00"
        }
      },
      "execution_count": null,
      "source": "def is_palindrome(n):\n    return str(n) == str(n)[::-1]\n\ndef largest_palindrome_product():\n    max_palindrome = 0\n    for i in range(999, 99, -1):\n        for j in range(i, 99, -1):\n            product = i * j\n            if product <= max_palindrome:\n                break\n            if is_palindrome(product):\n                max_palindrome = product\n    return max_palindrome\n\nlargest_palindrome_product()",
      "outputs": []
    }
  ]
}