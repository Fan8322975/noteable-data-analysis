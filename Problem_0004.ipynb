{
  "nbformat": 4,
  "nbformat_minor": 5,
  "metadata": {
    "noteable-chatgpt": {
      "create_notebook": {
        "openai_conversation_id": "d013684d-5486-5ce0-bab7-d18d891be95d",
        "openai_ephemeral_user_id": "029d81c7-17ed-5d16-8403-28c885c068cc",
        "openai_subdivision1_iso_code": "US-MD"
      }
    }
  },
  "cells": []
}