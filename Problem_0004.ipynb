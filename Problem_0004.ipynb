{
  "nbformat": 4,
  "nbformat_minor": 5,
  "metadata": {
    "noteable-chatgpt": {
      "create_notebook": {
        "openai_conversation_id": "95245c86-ac05-5c93-92a5-50e2455ff1fe",
        "openai_ephemeral_user_id": "89701e5b-41a6-54ed-8682-491e857b344f",
        "openai_subdivision1_iso_code": "US-MD"
      }
    }
  },
  "cells": []
}