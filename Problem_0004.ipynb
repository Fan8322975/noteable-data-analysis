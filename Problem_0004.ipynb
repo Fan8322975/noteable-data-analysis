{
  "nbformat": 4,
  "nbformat_minor": 5,
  "metadata": {
    "noteable-chatgpt": {
      "create_notebook": {
        "openai_conversation_id": "d013684d-5486-5ce0-bab7-d18d891be95d",
        "openai_ephemeral_user_id": "029d81c7-17ed-5d16-8403-28c885c068cc",
        "openai_subdivision1_iso_code": "US-MD"
      }
    },
    "noteable": {
      "last_transaction_id": "8e25bd64-f2ac-4ec4-a1e7-3e726b0b18e5"
    }
  },
  "cells": [
    {
      "id": "d0f3dd0c-4453-4bba-a561-0cd1f742a8f2",
      "cell_type": "markdown",
      "source": "# Problem 4: Largest palindrome product\n\n## Problem Statement\n\nA palindromic number reads the same both ways. The largest palindrome made from the product of two 2-digit numbers is 9009 = 91 × 99.\n\nFind the largest palindrome made from the product of two 3-digit numbers.",
      "metadata": {
        "noteable": {
          "cell_type": "markdown"
        }
      }
    }
  ]
}