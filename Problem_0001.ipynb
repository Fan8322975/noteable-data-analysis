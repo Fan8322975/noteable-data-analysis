{
  "nbformat": 4,
  "nbformat_minor": 5,
  "metadata": {
    "noteable-chatgpt": {
      "create_notebook": {
        "openai_conversation_id": "95245c86-ac05-5c93-92a5-50e2455ff1fe",
        "openai_ephemeral_user_id": "89701e5b-41a6-54ed-8682-491e857b344f",
        "openai_subdivision1_iso_code": "US-MD"
      }
    },
    "noteable": {
      "last_transaction_id": "2236b16c-59fa-4537-9e0b-e2e43bdfcb8f"
    }
  },
  "cells": [
    {
      "id": "49a72f77-c37a-4f2c-a6b9-b0e3f21ff83e",
      "cell_type": "markdown",
      "source": "# Problem 1: Multiples of 3 and 5\n\n## Problem Statement\n\nIf we list all the natural numbers below 10 that are multiples of 3 or 5, we get 3, 5, 6 and 9. The sum of these multiples is 23.\n\nFind the sum of all the multiples of 3 or 5 below 1000.",
      "metadata": {
        "noteable": {
          "cell_type": "markdown"
        }
      }
    },
    {
      "id": "e6224588-47fb-4dc9-998a-292f343b41da",
      "cell_type": "code",
      "metadata": {
        "noteable": {
          "cell_type": "code",
          "output_collection_id": "0983c2ef-888d-4530-970c-38596203a80f"
        },
        "ExecuteTime": {
          "end_time": "2023-06-18T15:50:38.985443+00:00",
          "start_time": "2023-06-18T15:50:38.825447+00:00"
        }
      },
      "execution_count": null,
      "source": "def sum_of_multiples(limit):\n    return sum(x for x in range(limit) if x % 3 == 0 or x % 5 == 0)\n\nsum_of_multiples(1000)",
      "outputs": []
    }
  ]
}