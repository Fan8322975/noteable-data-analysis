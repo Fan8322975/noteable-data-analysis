{
  "nbformat": 4,
  "nbformat_minor": 5,
  "metadata": {
    "noteable-chatgpt": {
      "create_notebook": {
        "openai_conversation_id": "d013684d-5486-5ce0-bab7-d18d891be95d",
        "openai_ephemeral_user_id": "029d81c7-17ed-5d16-8403-28c885c068cc",
        "openai_subdivision1_iso_code": "US-MD"
      }
    },
    "noteable": {
      "last_transaction_id": "267283e1-8397-41e3-822f-bf4c57863928"
    }
  },
  "cells": [
    {
      "id": "c041ed8b-6b12-401a-a5a0-7744d189b491",
      "cell_type": "markdown",
      "source": "# Problem 7: 10001st prime\n\n## Problem Statement\n\nBy listing the first six prime numbers: 2, 3, 5, 7, 11, and 13, we can see that the 6th prime is 13.\n\nWhat is the 10,001st prime number?",
      "metadata": {
        "noteable": {
          "cell_type": "markdown"
        }
      }
    },
    {
      "id": "ac59d034-088b-4077-bea4-f1c1c3aad17a",
      "cell_type": "code",
      "metadata": {
        "noteable": {
          "cell_type": "code",
          "output_collection_id": "97785ce7-d45f-48d0-b8c9-9c6ed2461ca0"
        },
        "ExecuteTime": {
          "end_time": "2023-06-23T17:39:33.555856+00:00",
          "start_time": "2023-06-23T17:39:29.499222+00:00"
        }
      },
      "execution_count": null,
      "source": "def nth_prime(n):\n    primes = [2]\n    candidate = 3\n    while len(primes) < n:\n        if all(candidate % prime != 0 for prime in primes):\n            primes.append(candidate)\n        candidate += 2\n    return primes[-1]\n\nnth_prime(10001)",
      "outputs": []
    }
  ]
}