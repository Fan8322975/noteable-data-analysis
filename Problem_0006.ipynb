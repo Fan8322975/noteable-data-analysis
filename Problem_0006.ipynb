{
  "nbformat": 4,
  "nbformat_minor": 5,
  "metadata": {
    "noteable-chatgpt": {
      "create_notebook": {
        "openai_conversation_id": "d013684d-5486-5ce0-bab7-d18d891be95d",
        "openai_ephemeral_user_id": "029d81c7-17ed-5d16-8403-28c885c068cc",
        "openai_subdivision1_iso_code": "US-MD"
      }
    },
    "noteable": {
      "last_transaction_id": "030f6b24-e58b-4b45-bf34-39f1d90499ff"
    }
  },
  "cells": [
    {
      "id": "2f6a8800-4cf0-4dd5-b792-9c634a3d3641",
      "cell_type": "markdown",
      "source": "# Problem 6: Sum square difference\n\n## Problem Statement\n\nThe sum of the squares of the first ten natural numbers is,\n\n1^2 + 2^2 + ... + 10^2 = 385\n\nThe square of the sum of the first ten natural numbers is,\n\n(1 + 2 + ... + 10)^2 = 55^2 = 3025\n\nHence the difference between the sum of the squares of the first ten natural numbers and the square of the sum is 3025 − 385 = 2640.\n\nFind the difference between the sum of the squares of the first one hundred natural numbers and the square of the sum.",
      "metadata": {
        "noteable": {
          "cell_type": "markdown"
        }
      }
    },
    {
      "id": "0c3af6d1-043d-4add-a2b2-00222b311877",
      "cell_type": "code",
      "metadata": {
        "noteable": {
          "cell_type": "code",
          "output_collection_id": "7f558872-f3b6-41cb-bf5b-136f0a1474c7"
        },
        "ExecuteTime": {
          "end_time": "2023-06-23T17:38:32.124379+00:00",
          "start_time": "2023-06-23T17:38:31.960558+00:00"
        }
      },
      "execution_count": null,
      "source": "def sum_square_difference(n):\n    sum_of_squares = sum(i**2 for i in range(1, n+1))\n    square_of_sum = sum(range(1, n+1))**2\n    return square_of_sum - sum_of_squares\n\nsum_square_difference(100)",
      "outputs": []
    }
  ]
}