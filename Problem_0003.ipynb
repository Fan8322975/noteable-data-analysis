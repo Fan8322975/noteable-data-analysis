{
  "nbformat": 4,
  "nbformat_minor": 5,
  "metadata": {
    "noteable-chatgpt": {
      "create_notebook": {
        "openai_conversation_id": "95245c86-ac05-5c93-92a5-50e2455ff1fe",
        "openai_ephemeral_user_id": "89701e5b-41a6-54ed-8682-491e857b344f",
        "openai_subdivision1_iso_code": "US-MD"
      }
    },
    "noteable": {
      "last_transaction_id": "c0aa544a-48f5-4e4c-ac29-6a3d98af0ef8"
    }
  },
  "cells": [
    {
      "id": "0fe71418-986a-44fe-92d7-fe1d85daa083",
      "cell_type": "markdown",
      "source": "# Problem 3: Largest prime factor\n\n## Problem Statement\n\nThe prime factors of 13195 are 5, 7, 13 and 29.\n\nWhat is the largest prime factor of the number 600851475143 ?",
      "metadata": {
        "noteable": {
          "cell_type": "markdown"
        }
      }
    },
    {
      "id": "cb936ee0-cf5d-40fe-b420-e03ddd469194",
      "cell_type": "code",
      "metadata": {
        "noteable": {
          "cell_type": "code",
          "output_collection_id": "54daeb47-8c27-4089-bc41-bd69c83c2ea2"
        },
        "ExecuteTime": {
          "end_time": "2023-06-18T15:52:26.648986+00:00",
          "start_time": "2023-06-18T15:52:26.487750+00:00"
        }
      },
      "execution_count": null,
      "source": "def largest_prime_factor(n):\n    i = 2\n    while i * i <= n:\n        if n % i:\n            i += 1\n        else:\n            n //= i\n    return n\n\nlargest_prime_factor(600851475143)",
      "outputs": []
    }
  ]
}